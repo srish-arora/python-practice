{
 "cells": [
  {
   "cell_type": "markdown",
   "id": "b08210ba",
   "metadata": {},
   "source": [
    "PRACTICE QUES"
   ]
  },
  {
   "cell_type": "code",
   "execution_count": 27,
   "id": "36779f56",
   "metadata": {},
   "outputs": [
    {
     "name": "stdout",
     "output_type": "stream",
     "text": [
      "the length is: 7\n",
      "the type is: <class 'list'>\n",
      "the new list is: [2, 3.5, 6.5, 5, 9, 198, 276]\n",
      "the longer list is: [2, 3.5, 6.5, 5, 9, 198, 276, 370]\n",
      "the list with inserted number is: [2, 3.5, 6.5, 4.2, 5, 9, 198, 276, 370]\n",
      "the extended list is: [2, 3.5, 6.5, 4.2, 5, 9, 198, 276, 370, 'rabbit', 'burrow']\n",
      "the new length of the list is: 11\n",
      "the list with removed item is: [2, 6.5, 4.2, 5, 9, 198, 276, 370, 'rabbit', 'burrow']\n",
      "the list with last item removed is: [2, 6.5, 4.2, 5, 9, 198, 276, 370, 'rabbit']\n",
      "the new list is: [2, 6.5, 4.2, 5, 9, 198, 276, 370]\n",
      "the sorted list is: [370, 276, 198, 9, 6.5, 5, 4.2, 2]\n",
      "the id of the sorted list is: 4496339200\n",
      "the list after deleting the first element is: [276, 198, 9, 6.5, 5, 4.2, 2]\n",
      "the new list is: [276, 198, 9, 6.5, 5, 4.2, 2, ['cat', 'bat', 'rat']]\n"
     ]
    }
   ],
   "source": [
    "A = [2,3.5,6,5,9,198,276]\n",
    "print(\"the length is:\", len(A))\n",
    "print(\"the type is:\", type(A))\n",
    "A[2]= 6.5\n",
    "print(\"the new list is:\",A)\n",
    "A.append(370)\n",
    "print(\"the longer list is:\",A)\n",
    "A.insert(3,4.2)\n",
    "print(\"the list with inserted number is:\",A)\n",
    "A.extend([\"rabbit\",\"burrow\"])\n",
    "print(\"the extended list is:\",A)\n",
    "print(\"the new length of the list is:\", len(A))\n",
    "A.remove(3.5)\n",
    "print(\"the list with removed item is:\",A)\n",
    "A.pop()\n",
    "print(\"the list with last item removed is:\",A)\n",
    "A.remove(\"rabbit\")\n",
    "print(\"the new list is:\",A)\n",
    "A.sort(reverse=True)\n",
    "print(\"the sorted list is:\",A)\n",
    "print(\"the id of the sorted list is:\",id(A))\n",
    "del A[0]\n",
    "print(\"the list after deleting the first element is:\",A)\n",
    "a = [\"cat\",\"bat\",\"rat\"]\n",
    "A.append(a)\n",
    "print(\"the new list is:\", A)\n"
   ]
  },
  {
   "cell_type": "code",
   "execution_count": 26,
   "id": "9aa43150",
   "metadata": {},
   "outputs": [],
   "source": [
    "list.sort?"
   ]
  },
  {
   "cell_type": "code",
   "execution_count": 31,
   "id": "08493efd",
   "metadata": {},
   "outputs": [
    {
     "data": {
      "text/plain": [
       "['s', 's', 'r', 'i', 'h']"
      ]
     },
     "execution_count": 31,
     "metadata": {},
     "output_type": "execute_result"
    }
   ],
   "source": [
    "sorted('srish',reverse=True)"
   ]
  },
  {
   "cell_type": "code",
   "execution_count": null,
   "id": "8ede0631",
   "metadata": {},
   "outputs": [],
   "source": []
  }
 ],
 "metadata": {
  "kernelspec": {
   "display_name": "Python 3",
   "language": "python",
   "name": "python3"
  },
  "language_info": {
   "codemirror_mode": {
    "name": "ipython",
    "version": 3
   },
   "file_extension": ".py",
   "mimetype": "text/x-python",
   "name": "python",
   "nbconvert_exporter": "python",
   "pygments_lexer": "ipython3",
   "version": "3.8.8"
  }
 },
 "nbformat": 4,
 "nbformat_minor": 5
}
