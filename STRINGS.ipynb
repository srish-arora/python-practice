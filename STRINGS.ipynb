{
 "cells": [
  {
   "cell_type": "markdown",
   "id": "6120c939",
   "metadata": {},
   "source": [
    "PRACTICE QUESTIONS"
   ]
  },
  {
   "cell_type": "code",
   "execution_count": 3,
   "id": "43f0e4cd",
   "metadata": {},
   "outputs": [
    {
     "name": "stdout",
     "output_type": "stream",
     "text": [
      "hello world\n",
      "hi world\n",
      "\n",
      " this in a new line\n",
      "bye world\n"
     ]
    }
   ],
   "source": [
    "print(\"hello world\")\n",
    "print(\"hi world\")\n",
    "print(\"\\n this in a new line\")\n",
    "print(\"bye world\")"
   ]
  },
  {
   "cell_type": "code",
   "execution_count": 4,
   "id": "eb120cd0",
   "metadata": {},
   "outputs": [
    {
     "data": {
      "text/plain": [
       "11"
      ]
     },
     "execution_count": 4,
     "metadata": {},
     "output_type": "execute_result"
    }
   ],
   "source": [
    "len('hello world')"
   ]
  },
  {
   "cell_type": "code",
   "execution_count": 5,
   "id": "853e318d",
   "metadata": {},
   "outputs": [
    {
     "name": "stdout",
     "output_type": "stream",
     "text": [
      "hello world\n"
     ]
    }
   ],
   "source": [
    "s=\"hello world\"\n",
    "print(s)"
   ]
  },
  {
   "cell_type": "code",
   "execution_count": 6,
   "id": "2e26bedf",
   "metadata": {},
   "outputs": [
    {
     "data": {
      "text/plain": [
       "'e'"
      ]
     },
     "execution_count": 6,
     "metadata": {},
     "output_type": "execute_result"
    }
   ],
   "source": [
    "s[1]"
   ]
  },
  {
   "cell_type": "code",
   "execution_count": 7,
   "id": "0f7256ff",
   "metadata": {},
   "outputs": [
    {
     "data": {
      "text/plain": [
       "'ello w'"
      ]
     },
     "execution_count": 7,
     "metadata": {},
     "output_type": "execute_result"
    }
   ],
   "source": [
    "s[1:7]"
   ]
  },
  {
   "cell_type": "code",
   "execution_count": 8,
   "id": "cd964532",
   "metadata": {},
   "outputs": [
    {
     "data": {
      "text/plain": [
       "'el '"
      ]
     },
     "execution_count": 8,
     "metadata": {},
     "output_type": "execute_result"
    }
   ],
   "source": [
    "s[1:6:2]"
   ]
  },
  {
   "cell_type": "code",
   "execution_count": 9,
   "id": "b39dda0d",
   "metadata": {},
   "outputs": [
    {
     "data": {
      "text/plain": [
       "'h'"
      ]
     },
     "execution_count": 9,
     "metadata": {},
     "output_type": "execute_result"
    }
   ],
   "source": [
    "s[0]"
   ]
  },
  {
   "cell_type": "code",
   "execution_count": 15,
   "id": "3ec1bb58",
   "metadata": {},
   "outputs": [
    {
     "data": {
      "text/plain": [
       "'Hello world'"
      ]
     },
     "execution_count": 15,
     "metadata": {},
     "output_type": "execute_result"
    }
   ],
   "source": [
    "s.capitalize()"
   ]
  },
  {
   "cell_type": "code",
   "execution_count": 16,
   "id": "a36130a0",
   "metadata": {},
   "outputs": [
    {
     "data": {
      "text/plain": [
       "'l'"
      ]
     },
     "execution_count": 16,
     "metadata": {},
     "output_type": "execute_result"
    }
   ],
   "source": [
    "s[-2]"
   ]
  },
  {
   "cell_type": "code",
   "execution_count": 21,
   "id": "27c06d83",
   "metadata": {},
   "outputs": [
    {
     "data": {
      "text/plain": [
       "'d'"
      ]
     },
     "execution_count": 21,
     "metadata": {},
     "output_type": "execute_result"
    }
   ],
   "source": [
    "s[-1:]"
   ]
  },
  {
   "cell_type": "code",
   "execution_count": 22,
   "id": "52c85ef4",
   "metadata": {},
   "outputs": [
    {
     "data": {
      "text/plain": [
       "'hello worl'"
      ]
     },
     "execution_count": 22,
     "metadata": {},
     "output_type": "execute_result"
    }
   ],
   "source": [
    "s[:-1]"
   ]
  },
  {
   "cell_type": "code",
   "execution_count": 23,
   "id": "7ce6c2f6",
   "metadata": {},
   "outputs": [
    {
     "data": {
      "text/plain": [
       "'rld'"
      ]
     },
     "execution_count": 23,
     "metadata": {},
     "output_type": "execute_result"
    }
   ],
   "source": [
    "s[-3:]"
   ]
  },
  {
   "cell_type": "code",
   "execution_count": 24,
   "id": "41397d97",
   "metadata": {},
   "outputs": [
    {
     "data": {
      "text/plain": [
       "'hlowrd'"
      ]
     },
     "execution_count": 24,
     "metadata": {},
     "output_type": "execute_result"
    }
   ],
   "source": [
    "s[::2]"
   ]
  },
  {
   "cell_type": "code",
   "execution_count": 25,
   "id": "7e22cf03",
   "metadata": {},
   "outputs": [
    {
     "data": {
      "text/plain": [
       "'drwolh'"
      ]
     },
     "execution_count": 25,
     "metadata": {},
     "output_type": "execute_result"
    }
   ],
   "source": [
    "s[::-2]"
   ]
  },
  {
   "cell_type": "code",
   "execution_count": 26,
   "id": "09fb79ae",
   "metadata": {},
   "outputs": [
    {
     "data": {
      "text/plain": [
       "'hello worldhi'"
      ]
     },
     "execution_count": 26,
     "metadata": {},
     "output_type": "execute_result"
    }
   ],
   "source": [
    "s + 'hi'"
   ]
  },
  {
   "cell_type": "code",
   "execution_count": 27,
   "id": "e8696b7b",
   "metadata": {},
   "outputs": [
    {
     "data": {
      "text/plain": [
       "'hello world hi'"
      ]
     },
     "execution_count": 27,
     "metadata": {},
     "output_type": "execute_result"
    }
   ],
   "source": [
    "s+ \" hi\""
   ]
  },
  {
   "cell_type": "code",
   "execution_count": 28,
   "id": "4f7d75d5",
   "metadata": {},
   "outputs": [
    {
     "data": {
      "text/plain": [
       "'hello worldhello worldhello worldhello worldhello worldhello worldhello worldhello worldhello worldhello world'"
      ]
     },
     "execution_count": 28,
     "metadata": {},
     "output_type": "execute_result"
    }
   ],
   "source": [
    "s*10"
   ]
  },
  {
   "cell_type": "code",
   "execution_count": 29,
   "id": "c1664d90",
   "metadata": {},
   "outputs": [
    {
     "data": {
      "text/plain": [
       "'HELLO WORLD'"
      ]
     },
     "execution_count": 29,
     "metadata": {},
     "output_type": "execute_result"
    }
   ],
   "source": [
    "s.upper()"
   ]
  },
  {
   "cell_type": "code",
   "execution_count": 30,
   "id": "194fd62a",
   "metadata": {},
   "outputs": [
    {
     "data": {
      "text/plain": [
       "'hello world'"
      ]
     },
     "execution_count": 30,
     "metadata": {},
     "output_type": "execute_result"
    }
   ],
   "source": [
    "s.lower()"
   ]
  },
  {
   "cell_type": "code",
   "execution_count": 31,
   "id": "81e7fe00",
   "metadata": {},
   "outputs": [
    {
     "data": {
      "text/plain": [
       "['hello', 'world']"
      ]
     },
     "execution_count": 31,
     "metadata": {},
     "output_type": "execute_result"
    }
   ],
   "source": [
    "s.split()"
   ]
  },
  {
   "cell_type": "code",
   "execution_count": 74,
   "id": "61d873bb",
   "metadata": {},
   "outputs": [],
   "source": [
    "b  = \"hi i am srishti, i love to play\""
   ]
  },
  {
   "cell_type": "code",
   "execution_count": 77,
   "id": "317acd79",
   "metadata": {},
   "outputs": [
    {
     "data": {
      "text/plain": [
       "['h', ' ', ' am sr', 'sht', ', ', ' love to play']"
      ]
     },
     "execution_count": 77,
     "metadata": {},
     "output_type": "execute_result"
    }
   ],
   "source": [
    "b.split(sep='i')"
   ]
  },
  {
   "cell_type": "code",
   "execution_count": null,
   "id": "dc67ebab",
   "metadata": {},
   "outputs": [],
   "source": []
  },
  {
   "cell_type": "code",
   "execution_count": 76,
   "id": "325fb5d3",
   "metadata": {},
   "outputs": [
    {
     "data": {
      "text/plain": [
       "['hi', 'i', 'am', 'srishti,', 'i', 'love', 'to', 'play']"
      ]
     },
     "execution_count": 76,
     "metadata": {},
     "output_type": "execute_result"
    }
   ],
   "source": [
    "b.split()"
   ]
  },
  {
   "cell_type": "code",
   "execution_count": 52,
   "id": "2bc82534",
   "metadata": {},
   "outputs": [
    {
     "name": "stdout",
     "output_type": "stream",
     "text": [
      "Hi, srishti is beautiful and 20 years old\n"
     ]
    }
   ],
   "source": [
    "name = \"srishti\"\n",
    "age = 20\n",
    "print(\"Hi, %s is beautiful and %d years old\" %(name,age))"
   ]
  },
  {
   "cell_type": "code",
   "execution_count": 53,
   "id": "15b9bef5",
   "metadata": {},
   "outputs": [
    {
     "name": "stdout",
     "output_type": "stream",
     "text": [
      "hello my name is srishti and i am 20 years old\n"
     ]
    }
   ],
   "source": [
    "print(\"hello my name is {n} and i am {a} years old\" .format(n = 'srishti', a = 20))"
   ]
  },
  {
   "cell_type": "code",
   "execution_count": 54,
   "id": "f40307ff",
   "metadata": {},
   "outputs": [
    {
     "name": "stdout",
     "output_type": "stream",
     "text": [
      "hi i am srishti\n"
     ]
    }
   ],
   "source": [
    "print(\"hi i am {}\" .format(\"srishti\"))"
   ]
  },
  {
   "cell_type": "code",
   "execution_count": 57,
   "id": "7a0354c2",
   "metadata": {},
   "outputs": [
    {
     "name": "stdout",
     "output_type": "stream",
     "text": [
      "addition gives 5 and subtraction gives -1\n"
     ]
    }
   ],
   "source": [
    "a = 2\n",
    "b = 3\n",
    "print(f'addition gives {a+b} and subtraction gives {a-b}')"
   ]
  },
  {
   "cell_type": "code",
   "execution_count": 59,
   "id": "ea127315",
   "metadata": {},
   "outputs": [
    {
     "name": "stdout",
     "output_type": "stream",
     "text": [
      "my name is srishti\n"
     ]
    }
   ],
   "source": [
    "print(f'my name is {\"srishti\"}')"
   ]
  },
  {
   "cell_type": "code",
   "execution_count": 61,
   "id": "9c0469e7",
   "metadata": {},
   "outputs": [
    {
     "name": "stdout",
     "output_type": "stream",
     "text": [
      "apple's a fruit\n"
     ]
    }
   ],
   "source": [
    "print(\"apple's a fruit\")"
   ]
  },
  {
   "cell_type": "code",
   "execution_count": 62,
   "id": "ee7db13c",
   "metadata": {},
   "outputs": [
    {
     "name": "stdout",
     "output_type": "stream",
     "text": [
      "apple's a fruit\n"
     ]
    }
   ],
   "source": [
    "print('apple\\'s a fruit')"
   ]
  },
  {
   "cell_type": "code",
   "execution_count": 63,
   "id": "7bae9459",
   "metadata": {},
   "outputs": [
    {
     "name": "stdout",
     "output_type": "stream",
     "text": [
      "[' ', ' ', ' ', ' ', 'a', 'a', 'd', 'g', 'g', 'i', 'i', 'l', 'm', 'o', 'o', 'r']\n"
     ]
    }
   ],
   "source": [
    "d = 'i am a good girl'\n",
    "print(sorted(d))"
   ]
  },
  {
   "cell_type": "code",
   "execution_count": 64,
   "id": "aea3e07e",
   "metadata": {},
   "outputs": [
    {
     "data": {
      "text/plain": [
       "'I AM A GOOD GIRL'"
      ]
     },
     "execution_count": 64,
     "metadata": {},
     "output_type": "execute_result"
    }
   ],
   "source": [
    "d.upper()"
   ]
  },
  {
   "cell_type": "code",
   "execution_count": 66,
   "id": "44f8f214",
   "metadata": {},
   "outputs": [
    {
     "name": "stdout",
     "output_type": "stream",
     "text": [
      "4559273136\n"
     ]
    }
   ],
   "source": [
    "print(id(d))"
   ]
  },
  {
   "cell_type": "code",
   "execution_count": 67,
   "id": "fa142ad5",
   "metadata": {},
   "outputs": [
    {
     "name": "stdout",
     "output_type": "stream",
     "text": [
      "i am a good girli am a good girli am a good girl\n"
     ]
    }
   ],
   "source": [
    "print(d*3)"
   ]
  },
  {
   "cell_type": "code",
   "execution_count": 69,
   "id": "dd0dfb96",
   "metadata": {},
   "outputs": [
    {
     "name": "stdout",
     "output_type": "stream",
     "text": [
      "i am a good girl yes i am\n"
     ]
    }
   ],
   "source": [
    "print(d+\" yes i am\")"
   ]
  },
  {
   "cell_type": "code",
   "execution_count": null,
   "id": "0406ca9e",
   "metadata": {},
   "outputs": [],
   "source": []
  }
 ],
 "metadata": {
  "kernelspec": {
   "display_name": "Python 3",
   "language": "python",
   "name": "python3"
  },
  "language_info": {
   "codemirror_mode": {
    "name": "ipython",
    "version": 3
   },
   "file_extension": ".py",
   "mimetype": "text/x-python",
   "name": "python",
   "nbconvert_exporter": "python",
   "pygments_lexer": "ipython3",
   "version": "3.8.8"
  }
 },
 "nbformat": 4,
 "nbformat_minor": 5
}
