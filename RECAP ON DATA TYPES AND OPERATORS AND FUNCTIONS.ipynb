{
 "cells": [
  {
   "cell_type": "markdown",
   "id": "554ddd13",
   "metadata": {},
   "source": [
    "DATA TYPES"
   ]
  },
  {
   "cell_type": "markdown",
   "id": "e80d888f",
   "metadata": {},
   "source": [
    "Numbers - integer(int), floaters(float),complex(complex)\n",
    "Strings - \n",
    "Lists[] - MUTABLE\n",
    "Tuples()- \n",
    "Dictionary{} - 'key':'value'   MUTABLE\n",
    "Sets()\n",
    "Boolean"
   ]
  },
  {
   "cell_type": "markdown",
   "id": "e61ea452",
   "metadata": {},
   "source": [
    "OPERATORS"
   ]
  },
  {
   "cell_type": "markdown",
   "id": "a1058ca2",
   "metadata": {},
   "source": [
    "Arithemetic - +,-,*,/,**,%,//\n",
    "Relational - <,<=,>,>=,==,!=\n",
    "Identity - is, is not\n",
    "Logical - and, or, not\n",
    "Bitwise - &, |, ^,~"
   ]
  },
  {
   "cell_type": "markdown",
   "id": "ec6a5896",
   "metadata": {},
   "source": [
    "CONVERSION FUNCTIONS"
   ]
  },
  {
   "cell_type": "markdown",
   "id": "f5636c2a",
   "metadata": {},
   "source": [
    "INT()\n",
    "FLOAT()\n",
    "BOOL()\n",
    "COMPLEX()\n",
    "STR()"
   ]
  },
  {
   "cell_type": "markdown",
   "id": "86e23e01",
   "metadata": {},
   "source": [
    "OTHERS"
   ]
  },
  {
   "cell_type": "markdown",
   "id": "469658ca",
   "metadata": {},
   "source": [
    "TYPE() - DATATYPES\n",
    "LEN() - LENGTH\n",
    "ID() - CHECKS THE ADDRESS OF OBJECT"
   ]
  },
  {
   "cell_type": "markdown",
   "id": "d16594c3",
   "metadata": {},
   "source": []
  },
  {
   "cell_type": "code",
   "execution_count": null,
   "id": "54b1c5e2",
   "metadata": {},
   "outputs": [],
   "source": []
  }
 ],
 "metadata": {
  "kernelspec": {
   "display_name": "Python 3",
   "language": "python",
   "name": "python3"
  },
  "language_info": {
   "codemirror_mode": {
    "name": "ipython",
    "version": 3
   },
   "file_extension": ".py",
   "mimetype": "text/x-python",
   "name": "python",
   "nbconvert_exporter": "python",
   "pygments_lexer": "ipython3",
   "version": "3.8.8"
  }
 },
 "nbformat": 4,
 "nbformat_minor": 5
}
